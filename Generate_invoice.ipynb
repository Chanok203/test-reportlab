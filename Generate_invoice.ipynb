{
 "cells": [
  {
   "cell_type": "code",
   "execution_count": 1,
   "metadata": {},
   "outputs": [],
   "source": [
    "import os\n",
    "import pandas as pd\n",
    "import datetime\n",
    "import pytz\n",
    "import json\n",
    "import numpy as np\n",
    "\n",
    "from IPython.display import display, HTML\n",
    "\n",
    "from invoice_v3 import get_month_thai, create_invoice, secure_filename\n",
    "\n",
    "tz = pytz.timezone('Asia/Bangkok')"
   ]
  },
  {
   "cell_type": "code",
   "execution_count": 2,
   "metadata": {},
   "outputs": [],
   "source": [
    "DIR = './Invoice/November-2563'\n",
    "IMAGES_DIR = os.path.join( DIR, 'IMAGES')\n",
    "PDF_DIR = os.path.join( DIR, 'PDF')\n",
    "\n",
    "sheet_path = './summary/พฤศจิกายน 2563.xlsx'\n",
    "start_invoice_number = 1023\n",
    "fee = 0.15\n",
    "\n",
    "start_date = datetime.date(2020, 11, 1)\n",
    "end_date = datetime.date(2020, 11, 30)"
   ]
  },
  {
   "cell_type": "code",
   "execution_count": 3,
   "metadata": {},
   "outputs": [],
   "source": [
    "float_list = [\n",
    "    'โคตรแซ่บริมคลอง'\n",
    "]"
   ]
  },
  {
   "cell_type": "code",
   "execution_count": 4,
   "metadata": {},
   "outputs": [],
   "source": [
    "def read_job_excel(path):\n",
    "    xls = pd.ExcelFile(path)\n",
    "    df = xls.parse('jobs', header=0, skiprows=4, usecols='A:D,G' , converters={\n",
    "        'ชื่อร้านค้า': lambda x: x.strip(),\n",
    "        'ราคาสินค้า': lambda x: x if x else 0,\n",
    "        'วันที่': lambda x: x.date()\n",
    "    })\n",
    "    return df"
   ]
  },
  {
   "cell_type": "code",
   "execution_count": 5,
   "metadata": {},
   "outputs": [],
   "source": [
    "def read_shop_excel(path):\n",
    "    xls = pd.ExcelFile(path)\n",
    "    df = xls.parse('shops', header=0, skiprows=2, usecols='A,C:H,' , converters={\n",
    "        'ชื่อร้านค้า': lambda x: x.strip(),\n",
    "    })\n",
    "    return df"
   ]
  },
  {
   "cell_type": "code",
   "execution_count": 6,
   "metadata": {},
   "outputs": [],
   "source": [
    "def get_data(shop, invoice_number):\n",
    "    shop_job_df = job_df.loc[job_df['ชื่อร้านค้า'] == shop]\n",
    "    date_list = sorted(shop_job_df['วันที่'].unique())\n",
    "    credit = 5000\n",
    "    \n",
    "    sum_ = 0\n",
    "    fee_ = 0\n",
    "    lines = []\n",
    "    \n",
    "    for d in date_list:\n",
    "        order_df = shop_job_df.loc[shop_job_df['วันที่'] == d]\n",
    "        \n",
    "        total_day = order_df['ราคาสินค้า'].sum(axis=0)\n",
    "        fee_day = int( np.sum( np.floor( order_df['ราคาสินค้า'].to_numpy() * fee + .5 ) ) )\n",
    "        sum_ += total_day\n",
    "        fee_ += fee_day\n",
    "        \n",
    "        credit -= fee_day\n",
    "        \n",
    "        desc = \"%d %s %d ( %d รายการ )\" % (d.day, get_month_thai(d.month), d.year + 543, len( order_df['ราคาสินค้า'] ))\n",
    "        \n",
    "        line = [\n",
    "                desc,\n",
    "                \"%d\" % (total_day),\n",
    "                \"%d\" % (fee_day),\n",
    "#                 \"%d\" % (credit),\n",
    "               ]\n",
    "        lines.append(line)\n",
    "    \n",
    "    data = {\n",
    "        'title': secure_filename(shop),\n",
    "        'today': today,\n",
    "        'invoice_number': invoice_number,\n",
    "        'shop_name': shop,\n",
    "        'start_date': \"%d %s %d\" % (start_date.day, get_month_thai(start_date.month), start_date.year + 543),\n",
    "        'end_date': \"%d %s %d\" % (end_date.day, get_month_thai(end_date.month), end_date.year + 543),\n",
    "        \n",
    "        'sum': sum_,\n",
    "        'fee': fee_,\n",
    "        'credit': credit,\n",
    "        'detail': lines,\n",
    "    }\n",
    "    \n",
    "#     print(fee_)\n",
    "    \n",
    "    return data"
   ]
  },
  {
   "cell_type": "code",
   "execution_count": 7,
   "metadata": {},
   "outputs": [],
   "source": [
    "def get_data_float(shop, invoice_number):\n",
    "    shop_job_df = job_df.loc[job_df['ชื่อร้านค้า'] == shop]\n",
    "    date_list = sorted(shop_job_df['วันที่'].unique())\n",
    "    \n",
    "    sum_ = 0\n",
    "    fee_ = 0\n",
    "    lines = []\n",
    "    \n",
    "    for d in date_list:\n",
    "        order_df = shop_job_df.loc[shop_job_df['วันที่'] == d]\n",
    "        \n",
    "        total_day = order_df['ราคาสินค้า'].sum(axis=0)\n",
    "        fee_day = float(np.sum(order_df['ราคาสินค้า'].to_numpy() * fee ))\n",
    "        sum_ += total_day\n",
    "        fee_ += fee_day\n",
    "        \n",
    "        desc = \"%d %s %d ( %d รายการ )\" % (d.day, get_month_thai(d.month), d.year + 543, len( order_df['ราคาสินค้า'] ))\n",
    "        \n",
    "        line = [\n",
    "                desc,\n",
    "                \"%d\" % (total_day),\n",
    "                \"%.2f\" % (fee_day),\n",
    "               ]\n",
    "        lines.append(line)\n",
    "    \n",
    "    data = {\n",
    "        'title': secure_filename(shop),\n",
    "        'today': today,\n",
    "        'invoice_number': invoice_number,\n",
    "        'shop_name': shop,\n",
    "        'start_date': \"%d %s %d\" % (start_date.day, get_month_thai(start_date.month), start_date.year + 543),\n",
    "        'end_date': \"%d %s %d\" % (end_date.day, get_month_thai(end_date.month), end_date.year + 543),\n",
    "        \n",
    "        'sum': sum_,\n",
    "        'fee': \"%.2f\" % fee_,\n",
    "        'detail': lines,\n",
    "    }\n",
    "    \n",
    "#     print(fee_)\n",
    "    \n",
    "    return data"
   ]
  },
  {
   "cell_type": "code",
   "execution_count": 8,
   "metadata": {},
   "outputs": [],
   "source": [
    "def process(shop, invoice_number):\n",
    "    data = get_data(shop, invoice_number)\n",
    "    file_path = os.path.join( PDF_DIR, \"ใบเสร็จ %s.pdf\" % secure_filename(shop) )\n",
    "    create_invoice(file_path, data)"
   ]
  },
  {
   "cell_type": "code",
   "execution_count": 9,
   "metadata": {},
   "outputs": [],
   "source": [
    "def process_float(shop, invoice_number):\n",
    "    data = get_data_float(shop, invoice_number)\n",
    "    file_path = os.path.join( PDF_DIR, \"ใบเสร็จ %s.pdf\" % secure_filename(shop) )\n",
    "    create_invoice(file_path, data)"
   ]
  },
  {
   "cell_type": "code",
   "execution_count": 10,
   "metadata": {},
   "outputs": [],
   "source": [
    "now = datetime.datetime.now(tz)\n",
    "today = \"%d %s %d\" % (now.day, get_month_thai(now.month), now.year + 543)"
   ]
  },
  {
   "cell_type": "code",
   "execution_count": 15,
   "metadata": {},
   "outputs": [],
   "source": [
    "job_df = read_job_excel(sheet_path)\n",
    "job_df = job_df.dropna()\n",
    "\n",
    "shop_df = read_shop_excel(sheet_path)"
   ]
  },
  {
   "cell_type": "code",
   "execution_count": 16,
   "metadata": {},
   "outputs": [
    {
     "output_type": "execute_result",
     "data": {
      "text/plain": [
       "                                   ชื่อร้านค้า  ยอดขายรวม  ค่าบริการ\n",
       "0                     Cafe@Home สี่ยอดกุมารเฮง         50       7.50\n",
       "1                            Cocobee Silpakorn        326      48.90\n",
       "2                                  Tiger Pizza        268      40.20\n",
       "3                     Homemade and Tasty (H&T)        638      95.70\n",
       "4                Cottage Coffee & Cake by Vava        367      55.05\n",
       "5        Baboo bear milk tea -ม.ศิลปากร นครปฐม        245      36.75\n",
       "6                               J&S Restaurant        178      26.70\n",
       "7              โจ๊กบางกอก สาขาอำเภอเมืองนครปฐม        120      18.00\n",
       "8                             จั๊บจับใจ นครปฐม        550      82.50\n",
       "9                              ข้าวต้ม สะแกทอง        105      15.75\n",
       "10                          KING Sushi&Sashimi        340      51.00\n",
       "11                        OHO SUSHI สาขานครปฐม        129      19.35\n",
       "12                   กาญจนาไก่ย่างส้มตำ ปลาเผา        155      23.25\n",
       "13                              เวียดนามเฮ้าส์        220      33.00\n",
       "14            ข้าวหมกไก่ ข้าวมันไก่ สะพานซอย 2         70      10.50\n",
       "15  Tokyo Cafe Kitchen (โตเกียว คาเฟ่ คิทเช่น)       2185     327.75\n",
       "16                         ข้าวต้ม ต้นสน อาอี่        730     109.50\n",
       "17                                ซูชิจังพ่นไฟ        220      33.00"
      ],
      "text/html": "<div>\n<style scoped>\n    .dataframe tbody tr th:only-of-type {\n        vertical-align: middle;\n    }\n\n    .dataframe tbody tr th {\n        vertical-align: top;\n    }\n\n    .dataframe thead th {\n        text-align: right;\n    }\n</style>\n<table border=\"1\" class=\"dataframe\">\n  <thead>\n    <tr style=\"text-align: right;\">\n      <th></th>\n      <th>ชื่อร้านค้า</th>\n      <th>ยอดขายรวม</th>\n      <th>ค่าบริการ</th>\n    </tr>\n  </thead>\n  <tbody>\n    <tr>\n      <th>0</th>\n      <td>Cafe@Home สี่ยอดกุมารเฮง</td>\n      <td>50</td>\n      <td>7.50</td>\n    </tr>\n    <tr>\n      <th>1</th>\n      <td>Cocobee Silpakorn</td>\n      <td>326</td>\n      <td>48.90</td>\n    </tr>\n    <tr>\n      <th>2</th>\n      <td>Tiger Pizza</td>\n      <td>268</td>\n      <td>40.20</td>\n    </tr>\n    <tr>\n      <th>3</th>\n      <td>Homemade and Tasty (H&amp;T)</td>\n      <td>638</td>\n      <td>95.70</td>\n    </tr>\n    <tr>\n      <th>4</th>\n      <td>Cottage Coffee &amp; Cake by Vava</td>\n      <td>367</td>\n      <td>55.05</td>\n    </tr>\n    <tr>\n      <th>5</th>\n      <td>Baboo bear milk tea -ม.ศิลปากร นครปฐม</td>\n      <td>245</td>\n      <td>36.75</td>\n    </tr>\n    <tr>\n      <th>6</th>\n      <td>J&amp;S Restaurant</td>\n      <td>178</td>\n      <td>26.70</td>\n    </tr>\n    <tr>\n      <th>7</th>\n      <td>โจ๊กบางกอก สาขาอำเภอเมืองนครปฐม</td>\n      <td>120</td>\n      <td>18.00</td>\n    </tr>\n    <tr>\n      <th>8</th>\n      <td>จั๊บจับใจ นครปฐม</td>\n      <td>550</td>\n      <td>82.50</td>\n    </tr>\n    <tr>\n      <th>9</th>\n      <td>ข้าวต้ม สะแกทอง</td>\n      <td>105</td>\n      <td>15.75</td>\n    </tr>\n    <tr>\n      <th>10</th>\n      <td>KING Sushi&amp;Sashimi</td>\n      <td>340</td>\n      <td>51.00</td>\n    </tr>\n    <tr>\n      <th>11</th>\n      <td>OHO SUSHI สาขานครปฐม</td>\n      <td>129</td>\n      <td>19.35</td>\n    </tr>\n    <tr>\n      <th>12</th>\n      <td>กาญจนาไก่ย่างส้มตำ ปลาเผา</td>\n      <td>155</td>\n      <td>23.25</td>\n    </tr>\n    <tr>\n      <th>13</th>\n      <td>เวียดนามเฮ้าส์</td>\n      <td>220</td>\n      <td>33.00</td>\n    </tr>\n    <tr>\n      <th>14</th>\n      <td>ข้าวหมกไก่ ข้าวมันไก่ สะพานซอย 2</td>\n      <td>70</td>\n      <td>10.50</td>\n    </tr>\n    <tr>\n      <th>15</th>\n      <td>Tokyo Cafe Kitchen (โตเกียว คาเฟ่ คิทเช่น)</td>\n      <td>2185</td>\n      <td>327.75</td>\n    </tr>\n    <tr>\n      <th>16</th>\n      <td>ข้าวต้ม ต้นสน อาอี่</td>\n      <td>730</td>\n      <td>109.50</td>\n    </tr>\n    <tr>\n      <th>17</th>\n      <td>ซูชิจังพ่นไฟ</td>\n      <td>220</td>\n      <td>33.00</td>\n    </tr>\n  </tbody>\n</table>\n</div>"
     },
     "metadata": {},
     "execution_count": 16
    }
   ],
   "source": [
    "shop_df"
   ]
  },
  {
   "cell_type": "code",
   "execution_count": 13,
   "metadata": {},
   "outputs": [],
   "source": [
    "selected_list = [\n",
    "    'Chinta Cafe'\n",
    "]"
   ]
  },
  {
   "cell_type": "code",
   "execution_count": 17,
   "metadata": {},
   "outputs": [],
   "source": [
    "float_shop_list = []\n",
    "shop_list = []\n",
    "selected_shop_list = []\n",
    "\n",
    "\n",
    "float_shop_list = sorted(set(shop_df[ shop_df['ชื่อร้านค้า'].isin(float_list) ]['ชื่อร้านค้า'].to_list()))\n",
    "shop_list = sorted(set(shop_df[ ~shop_df['ชื่อร้านค้า'].isin(float_list) ]['ชื่อร้านค้า'].to_list()))\n",
    "# selected_shop_list = sorted(set(shop_df[ shop_df['ชื่อร้านค้า'].isin(selected_list) ]['ชื่อร้านค้า'].to_list()))"
   ]
  },
  {
   "cell_type": "code",
   "execution_count": 19,
   "metadata": {},
   "outputs": [
    {
     "output_type": "execute_result",
     "data": {
      "text/plain": [
       "[]"
      ]
     },
     "metadata": {},
     "execution_count": 19
    }
   ],
   "source": [
    "float_shop_list"
   ]
  },
  {
   "cell_type": "code",
   "execution_count": 20,
   "metadata": {},
   "outputs": [
    {
     "output_type": "execute_result",
     "data": {
      "text/plain": [
       "['Baboo bear milk tea -ม.ศิลปากร นครปฐม',\n",
       " 'Cafe@Home สี่ยอดกุมารเฮง',\n",
       " 'Cocobee Silpakorn',\n",
       " 'Cottage Coffee & Cake by Vava',\n",
       " 'Homemade and Tasty (H&T)',\n",
       " 'J&S Restaurant',\n",
       " 'KING Sushi&Sashimi',\n",
       " 'OHO SUSHI สาขานครปฐม',\n",
       " 'Tiger Pizza',\n",
       " 'Tokyo Cafe Kitchen (โตเกียว คาเฟ่ คิทเช่น)',\n",
       " 'กาญจนาไก่ย่างส้มตำ ปลาเผา',\n",
       " 'ข้าวต้ม ต้นสน อาอี่',\n",
       " 'ข้าวต้ม สะแกทอง',\n",
       " 'ข้าวหมกไก่ ข้าวมันไก่ สะพานซอย 2',\n",
       " 'จั๊บจับใจ นครปฐม',\n",
       " 'ซูชิจังพ่นไฟ',\n",
       " 'เวียดนามเฮ้าส์',\n",
       " 'โจ๊กบางกอก สาขาอำเภอเมืองนครปฐม']"
      ]
     },
     "metadata": {},
     "execution_count": 20
    }
   ],
   "source": [
    "shop_list"
   ]
  },
  {
   "cell_type": "code",
   "execution_count": 21,
   "metadata": {},
   "outputs": [
    {
     "output_type": "execute_result",
     "data": {
      "text/plain": [
       "[]"
      ]
     },
     "metadata": {},
     "execution_count": 21
    }
   ],
   "source": [
    "selected_shop_list"
   ]
  },
  {
   "cell_type": "code",
   "execution_count": 24,
   "metadata": {
    "tags": []
   },
   "outputs": [
    {
     "output_type": "stream",
     "name": "stderr",
     "text": [
      "100%|██████████| 18/18 [00:01<00:00, 12.68it/s]\n",
      "0it [00:00, ?it/s]\n",
      "0it [00:00, ?it/s]\n"
     ]
    }
   ],
   "source": [
    "from tqdm import tqdm\n",
    "\n",
    "for i, shop in enumerate( tqdm(shop_list)):\n",
    "    process(shop, start_invoice_number)\n",
    "    start_invoice_number+=1\n",
    "\n",
    "for i, shop in enumerate( tqdm(float_shop_list)):\n",
    "    process_float(shop, start_invoice_number)\n",
    "    start_invoice_number+=1\n",
    "\n",
    "for i, shop in enumerate( tqdm(selected_shop_list)):\n",
    "    process_float(shop, start_invoice_number)\n",
    "    start_invoice_number+=1"
   ]
  },
  {
   "cell_type": "code",
   "execution_count": 25,
   "metadata": {
    "tags": []
   },
   "outputs": [
    {
     "output_type": "stream",
     "name": "stdout",
     "text": [
      "1041\n"
     ]
    }
   ],
   "source": [
    "print(start_invoice_number)\n",
    "with open('number.txt', 'w') as f:\n",
    "    f.write(f'{start_invoice_number}')"
   ]
  },
  {
   "cell_type": "code",
   "execution_count": 26,
   "metadata": {},
   "outputs": [
    {
     "output_type": "execute_result",
     "data": {
      "text/plain": [
       "18"
      ]
     },
     "metadata": {},
     "execution_count": 26
    }
   ],
   "source": [
    "pdf_list = sorted( os.path.join(PDF_DIR, file) for file in os.listdir(PDF_DIR) if file.endswith('.pdf')  and not file.startswith('.'))\n",
    "len(pdf_list)"
   ]
  },
  {
   "cell_type": "code",
   "execution_count": 28,
   "metadata": {},
   "outputs": [],
   "source": [
    "from pdf2image import convert_from_path"
   ]
  },
  {
   "cell_type": "code",
   "execution_count": 29,
   "metadata": {
    "tags": []
   },
   "outputs": [
    {
     "output_type": "stream",
     "name": "stderr",
     "text": [
      "100%|██████████| 18/18 [00:12<00:00,  1.47it/s]\n"
     ]
    }
   ],
   "source": [
    "for pdf_path in tqdm(pdf_list):\n",
    "    name = pdf_path.split(os.sep)[-1][:-4]\n",
    "    image_path = [ os.path.join(IMAGES_DIR, f'{name}_{i}.png') for i in range(1,3)]\n",
    "    images = convert_from_path(pdf_path)\n",
    "    for image, path in zip(images, image_path):\n",
    "        image.save(path)"
   ]
  },
  {
   "cell_type": "code",
   "execution_count": null,
   "metadata": {},
   "outputs": [],
   "source": []
  }
 ],
 "metadata": {
  "kernelspec": {
   "name": "python3",
   "display_name": "Python 3.8.5 64-bit ('jedmove-py38': conda)",
   "metadata": {
    "interpreter": {
     "hash": "c828ced88f91f42bb20cd55aa047a937f456c31828f52a3c21935b3052b44fa8"
    }
   }
  },
  "language_info": {
   "codemirror_mode": {
    "name": "ipython",
    "version": 3
   },
   "file_extension": ".py",
   "mimetype": "text/x-python",
   "name": "python",
   "nbconvert_exporter": "python",
   "pygments_lexer": "ipython3",
   "version": "3.8.5-final"
  }
 },
 "nbformat": 4,
 "nbformat_minor": 4
}